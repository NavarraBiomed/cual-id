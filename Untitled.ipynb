{
 "cells": [
  {
   "cell_type": "code",
   "execution_count": 31,
   "metadata": {
    "collapsed": true
   },
   "outputs": [],
   "source": [
    "fh = open('test-files/foo_map.txt', 'U')\n"
   ]
  },
  {
   "cell_type": "code",
   "execution_count": 32,
   "metadata": {
    "collapsed": true
   },
   "outputs": [],
   "source": [
    "import pandas as pd\n"
   ]
  },
  {
   "cell_type": "code",
   "execution_count": 68,
   "metadata": {
    "collapsed": false
   },
   "outputs": [
    {
     "data": {
      "text/plain": [
       "0    Test_ID1\n",
       "1    Test_ID2\n",
       "Name: #SampleID, dtype: object"
      ]
     },
     "execution_count": 68,
     "metadata": {},
     "output_type": "execute_result"
    }
   ],
   "source": [
    "fh = open('test-files/foo_map.txt', 'U')\n",
    "sep = '\\t'\n",
    "comment = None\n",
    "column=None\n",
    "pd.read_csv(fh, sep=sep, comment=comment).ix[:,0]"
   ]
  },
  {
   "cell_type": "code",
   "execution_count": 69,
   "metadata": {
    "collapsed": true
   },
   "outputs": [],
   "source": [
    "def get_ids(input_fh, comment, sep, column):\n",
    "\n",
    "    id_df = pd.read_csv(input_fh, sep=sep, comment=comment)\n",
    "    \n",
    "    if column:\n",
    "        id_list = id_df[column]\n",
    "    else:\n",
    "        id_list = id_df.ix[:,0]\n",
    "\n",
    "    return id_list\n",
    "\n",
    "sep = '\\t'\n",
    "comment = None\n",
    "column = None"
   ]
  },
  {
   "cell_type": "code",
   "execution_count": 70,
   "metadata": {
    "collapsed": false
   },
   "outputs": [],
   "source": [
    "from StringIO import StringIO\n",
    "id_file = \"\"\"#SampleID\n",
    "             Test_ID1\n",
    "             Test_ID2\"\"\"\n",
    "\n",
    "\n",
    "id_file = StringIO(id_file)"
   ]
  },
  {
   "cell_type": "code",
   "execution_count": 71,
   "metadata": {
    "collapsed": false
   },
   "outputs": [
    {
     "data": {
      "text/plain": [
       "0                 Test_ID1\n",
       "1                 Test_ID2\n",
       "Name: #SampleID, dtype: object"
      ]
     },
     "execution_count": 71,
     "metadata": {},
     "output_type": "execute_result"
    }
   ],
   "source": [
    "get_ids(id_file, comment, sep, column)"
   ]
  },
  {
   "cell_type": "code",
   "execution_count": 67,
   "metadata": {
    "collapsed": false
   },
   "outputs": [
    {
     "data": {
      "text/plain": [
       "False"
      ]
     },
     "execution_count": 67,
     "metadata": {},
     "output_type": "execute_result"
    }
   ],
   "source": [
    "['Test_ID1', 'Test_ID2'] == ['Test_ID1, Test_ID2']"
   ]
  },
  {
   "cell_type": "code",
   "execution_count": null,
   "metadata": {
    "collapsed": true
   },
   "outputs": [],
   "source": []
  }
 ],
 "metadata": {
  "kernelspec": {
   "display_name": "Python 2",
   "language": "python",
   "name": "python2"
  },
  "language_info": {
   "codemirror_mode": {
    "name": "ipython",
    "version": 2
   },
   "file_extension": ".py",
   "mimetype": "text/x-python",
   "name": "python",
   "nbconvert_exporter": "python",
   "pygments_lexer": "ipython2",
   "version": "2.7.6"
  }
 },
 "nbformat": 4,
 "nbformat_minor": 0
}
