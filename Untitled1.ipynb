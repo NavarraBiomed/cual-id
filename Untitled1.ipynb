{
 "cells": [
  {
   "cell_type": "markdown",
   "metadata": {},
   "source": [
    "There are two limiting factors here. The first is the amount of time it takes for to check for a new IDs similarity to the list of IDs, the other is how much time it takes to find an ID that is not within a give distance. The first situation is optimizable, however the second is purely a function of the parameters chosen. i.e. if you chose a distance of 3 with 1000000 IDs of length 4, the loop would be infinite."
   ]
  },
  {
   "cell_type": "code",
   "execution_count": 1,
   "metadata": {
    "collapsed": false
   },
   "outputs": [],
   "source": [
    "import uuid\n",
    "from difflib import get_close_matches\n",
    "\n",
    "def create_ids(n, id_length):\n",
    "    uuids = set()\n",
    "    hrids = set()\n",
    "    while len(hrids) < n:\n",
    "        uuid_ = uuid.uuid4()\n",
    "        hrid = uuid_.hex[-id_length:]\n",
    "        fixed_id = get_close_matches(hrid, hrids, 1, .7)\n",
    "        if fixed_id:\n",
    "            pass                \n",
    "        else:\n",
    "            uuids.add(uuid_)\n",
    "            hrids.add(hrid)\n",
    "    return hrids, uuids"
   ]
  },
  {
   "cell_type": "code",
   "execution_count": 2,
   "metadata": {
    "collapsed": true
   },
   "outputs": [],
   "source": [
    "\n",
    "def my_hamming(s1, s2):\n",
    "    count_diff = 0\n",
    "    for i1, i2 in zip(s1, s2):\n",
    "        if i1 != i2:\n",
    "            count_diff += 1\n",
    "    return count_diff\n",
    "       \n",
    "def within_d(query, existing, d=2):\n",
    "    for e in existing:\n",
    "        if my_hamming(query, e) <= d:\n",
    "            return True\n",
    "    return False\n",
    " "
   ]
  },
  {
   "cell_type": "code",
   "execution_count": 3,
   "metadata": {
    "collapsed": true
   },
   "outputs": [],
   "source": [
    "def create_ids_2(n, id_length, distance=2):\n",
    "    uuids = set()\n",
    "    hrids = set()\n",
    "    while len(hrids) < n:\n",
    "        uuid_ = uuid.uuid4()\n",
    "        hrid = uuid_.hex[-id_length:]\n",
    "        if within_d(hrid, hrids):\n",
    "            pass                \n",
    "        else:\n",
    "            uuids.add(uuid_)\n",
    "            hrids.add(hrid)\n",
    "    return hrids, uuids"
   ]
  },
  {
   "cell_type": "code",
   "execution_count": 61,
   "metadata": {
    "collapsed": false
   },
   "outputs": [],
   "source": [
    "from bitarray import bitarray\n",
    "import mmh3\n",
    "from itertools import combinations\n",
    " \n",
    "class BloomFilter:\n",
    "    \n",
    "    def __init__(self, size, hash_count):\n",
    "        self.size = size\n",
    "        self.hash_count = hash_count\n",
    "        self.bit_array = bitarray(size)\n",
    "        self.bit_array.setall(0)\n",
    "        \n",
    "    def add(self, string):\n",
    "        for seed in range(self.hash_count):\n",
    "            result = mmh3.hash(string, seed) % self.size\n",
    "            self.bit_array[result] = 1\n",
    "            \n",
    "    def lookup(self, string):\n",
    "        for seed in range(self.hash_count):\n",
    "            result = mmh3.hash(string, seed) % self.size\n",
    "            if self.bit_array[result] == 0:\n",
    "                return False\n",
    "        return True\n",
    "\n",
    "def create_ids_3(n, id_length, distance=2):\n",
    "    bf = BloomFilter(500000, 7)\n",
    "    hrids = []\n",
    "    uuids = []\n",
    "    while len(hrids) < n:\n",
    "        uuid_ = uuid.uuid4()\n",
    "        hrid = uuid_.hex[-id_length:]\n",
    "        if not hrid in hrids:\n",
    "            #combinations needs to be replaced with a different function if edit distance is more than 2\n",
    "            if any([bf.lookup(''.join(e)) for e in combinations(hrid, id_length-1)]):\n",
    "                pass\n",
    "            else:\n",
    "                [bf.add(''.join(e)) for e in combinations(hrid, id_length-1)]\n",
    "                hrids.append(hrid)\n",
    "                uuids.append(uuid_)\n",
    "                \n",
    "    return hrids, uuids"
   ]
  },
  {
   "cell_type": "code",
   "execution_count": 62,
   "metadata": {
    "collapsed": false
   },
   "outputs": [
    {
     "name": "stdout",
     "output_type": "stream",
     "text": [
      "CPU times: user 47.6 ms, sys: 2.21 ms, total: 49.8 ms\n",
      "Wall time: 48.3 ms\n"
     ]
    }
   ],
   "source": [
    "%%time\n",
    "#using difflib\n",
    "ids = create_ids(100, 10)"
   ]
  },
  {
   "cell_type": "code",
   "execution_count": 78,
   "metadata": {
    "collapsed": false
   },
   "outputs": [
    {
     "name": "stdout",
     "output_type": "stream",
     "text": [
      "CPU times: user 1min 20s, sys: 238 ms, total: 1min 20s\n",
      "Wall time: 1min 20s\n"
     ]
    }
   ],
   "source": [
    "%%time\n",
    "#using hamming distance\n",
    "ids2 = create_ids_2(10000, 9)"
   ]
  },
  {
   "cell_type": "code",
   "execution_count": 79,
   "metadata": {
    "collapsed": false
   },
   "outputs": [
    {
     "name": "stdout",
     "output_type": "stream",
     "text": [
      "CPU times: user 2.74 s, sys: 55.6 ms, total: 2.79 s\n",
      "Wall time: 2.79 s\n"
     ]
    }
   ],
   "source": [
    "%%time\n",
    "#using hamming distance with bloom filter\n",
    "ids3 = create_ids_3(10000, 9)"
   ]
  },
  {
   "cell_type": "code",
   "execution_count": 80,
   "metadata": {
    "collapsed": false
   },
   "outputs": [
    {
     "name": "stdout",
     "output_type": "stream",
     "text": [
      "10000\n",
      "10000\n"
     ]
    }
   ],
   "source": [
    "print(len(ids2[1]))\n",
    "print(len(ids3[1]))"
   ]
  },
  {
   "cell_type": "code",
   "execution_count": 81,
   "metadata": {
    "collapsed": true
   },
   "outputs": [],
   "source": [
    "def within_mod(query, existing, d=2):\n",
    "    if my_hamming(query, existing) <= d:\n",
    "            return True\n",
    "    return False"
   ]
  },
  {
   "cell_type": "code",
   "execution_count": 82,
   "metadata": {
    "collapsed": false
   },
   "outputs": [],
   "source": [
    "for i in combinations(ids2[0], 2):\n",
    "    if within_mod(i[0], i[1], d=1):\n",
    "        print(id1, id2)"
   ]
  },
  {
   "cell_type": "code",
   "execution_count": 83,
   "metadata": {
    "collapsed": true
   },
   "outputs": [],
   "source": [
    "for i in combinations(ids3[0], 2):\n",
    "    if within_mod(i[0], i[1], d=1):\n",
    "        print(id1, id2)"
   ]
  },
  {
   "cell_type": "code",
   "execution_count": null,
   "metadata": {
    "collapsed": true
   },
   "outputs": [],
   "source": []
  }
 ],
 "metadata": {
  "kernelspec": {
   "display_name": "Python 3",
   "language": "python",
   "name": "python3"
  },
  "language_info": {
   "codemirror_mode": {
    "name": "ipython",
    "version": 3
   },
   "file_extension": ".py",
   "mimetype": "text/x-python",
   "name": "python",
   "nbconvert_exporter": "python",
   "pygments_lexer": "ipython3",
   "version": "3.4.3"
  }
 },
 "nbformat": 4,
 "nbformat_minor": 0
}
